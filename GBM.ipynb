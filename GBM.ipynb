{
 "cells": [
  {
   "cell_type": "markdown",
   "metadata": {},
   "source": [
    "# Simulate Data"
   ]
  },
  {
   "cell_type": "code",
   "execution_count": 153,
   "metadata": {},
   "outputs": [],
   "source": [
    "import numpy as np\n",
    "from numpy import random as rd\n",
    "import pandas as pd"
   ]
  },
  {
   "cell_type": "code",
   "execution_count": 155,
   "metadata": {},
   "outputs": [
    {
     "name": "stderr",
     "output_type": "stream",
     "text": [
      "<ipython-input-155-d05609a774c2>:27: SettingWithCopyWarning: \n",
      "A value is trying to be set on a copy of a slice from a DataFrame\n",
      "\n",
      "See the caveats in the documentation: https://pandas.pydata.org/pandas-docs/stable/user_guide/indexing.html#returning-a-view-versus-a-copy\n",
      "  df[\"X1\"][(df[\"X4\"] > 1) & (df[\"X4\"] < 10)] = np.NAN\n"
     ]
    }
   ],
   "source": [
    "# define X variables, 100,000 observations\n",
    "rd.seed(22)\n",
    "num_obs = 100000\n",
    "\n",
    "X1 = rd.randn(num_obs)*2.0\n",
    "X2 = rd.random(num_obs)*10+4\n",
    "X3 = rd.choice([0,1], num_obs)\n",
    "X4 = rd.randint(0,101,num_obs)\n",
    "X5 = rd.rand(num_obs)*11-5\n",
    "X6 = rd.lognormal(0,0.03,num_obs)\n",
    "X7 = rd.choice(['male', 'female'], num_obs)\n",
    "\n",
    "\n",
    "\n",
    "\n",
    "\n",
    "# define Y variable, 70% zero, 30% one\n",
    "Y = np.floor(rd.rand(num_obs)/0.7)\n",
    "\n",
    "df = pd.DataFrame(np.array([X1,X2,X3,X4,X5,X6,X7,Y]).transpose(),\n",
    "                  columns=['X1','X2','X3','X4','X5','X6','X7','Y'])\n",
    "\n",
    "df = df.astype(dtype= {\"X1\":\"float64\", \"X2\":\"float64\", \"X3\":\"float64\", \"X4\":\"int32\",\n",
    "                      \"X5\":\"float64\", \"X6\":\"float64\", \"Y\":\"float64\"})\n",
    "\n",
    "# missing values\n",
    "df[\"X1\"][(df[\"X4\"] > 1) & (df[\"X4\"] < 10)] = np.NAN"
   ]
  },
  {
   "cell_type": "markdown",
   "metadata": {},
   "source": [
    "# Data Check\n"
   ]
  },
  {
   "cell_type": "code",
   "execution_count": 154,
   "metadata": {},
   "outputs": [
    {
     "data": {
      "text/plain": [
       "(100000, 8)"
      ]
     },
     "execution_count": 154,
     "metadata": {},
     "output_type": "execute_result"
    }
   ],
   "source": [
    "df.shape"
   ]
  },
  {
   "cell_type": "code",
   "execution_count": 152,
   "metadata": {},
   "outputs": [
    {
     "data": {
      "text/html": [
       "<div>\n",
       "<style scoped>\n",
       "    .dataframe tbody tr th:only-of-type {\n",
       "        vertical-align: middle;\n",
       "    }\n",
       "\n",
       "    .dataframe tbody tr th {\n",
       "        vertical-align: top;\n",
       "    }\n",
       "\n",
       "    .dataframe thead th {\n",
       "        text-align: right;\n",
       "    }\n",
       "</style>\n",
       "<table border=\"1\" class=\"dataframe\">\n",
       "  <thead>\n",
       "    <tr style=\"text-align: right;\">\n",
       "      <th></th>\n",
       "      <th>X1</th>\n",
       "      <th>X2</th>\n",
       "      <th>X3</th>\n",
       "      <th>X4</th>\n",
       "      <th>X5</th>\n",
       "      <th>X6</th>\n",
       "      <th>X7</th>\n",
       "      <th>Y</th>\n",
       "    </tr>\n",
       "  </thead>\n",
       "  <tbody>\n",
       "    <tr>\n",
       "      <th>0</th>\n",
       "      <td>NaN</td>\n",
       "      <td>4.679251</td>\n",
       "      <td>0.0</td>\n",
       "      <td>9</td>\n",
       "      <td>-3.309713</td>\n",
       "      <td>0.996256</td>\n",
       "      <td>female</td>\n",
       "      <td>0.0</td>\n",
       "    </tr>\n",
       "    <tr>\n",
       "      <th>1</th>\n",
       "      <td>-2.926701</td>\n",
       "      <td>4.881840</td>\n",
       "      <td>1.0</td>\n",
       "      <td>27</td>\n",
       "      <td>-0.131200</td>\n",
       "      <td>1.002022</td>\n",
       "      <td>female</td>\n",
       "      <td>0.0</td>\n",
       "    </tr>\n",
       "    <tr>\n",
       "      <th>2</th>\n",
       "      <td>2.163583</td>\n",
       "      <td>8.385173</td>\n",
       "      <td>0.0</td>\n",
       "      <td>37</td>\n",
       "      <td>-2.130169</td>\n",
       "      <td>0.992910</td>\n",
       "      <td>female</td>\n",
       "      <td>1.0</td>\n",
       "    </tr>\n",
       "    <tr>\n",
       "      <th>3</th>\n",
       "      <td>-0.478650</td>\n",
       "      <td>9.881707</td>\n",
       "      <td>0.0</td>\n",
       "      <td>38</td>\n",
       "      <td>-3.724918</td>\n",
       "      <td>1.030024</td>\n",
       "      <td>male</td>\n",
       "      <td>0.0</td>\n",
       "    </tr>\n",
       "    <tr>\n",
       "      <th>4</th>\n",
       "      <td>-0.982258</td>\n",
       "      <td>8.630986</td>\n",
       "      <td>1.0</td>\n",
       "      <td>81</td>\n",
       "      <td>3.550159</td>\n",
       "      <td>0.990598</td>\n",
       "      <td>female</td>\n",
       "      <td>1.0</td>\n",
       "    </tr>\n",
       "    <tr>\n",
       "      <th>5</th>\n",
       "      <td>-2.004544</td>\n",
       "      <td>5.862744</td>\n",
       "      <td>0.0</td>\n",
       "      <td>21</td>\n",
       "      <td>2.540840</td>\n",
       "      <td>1.004915</td>\n",
       "      <td>female</td>\n",
       "      <td>0.0</td>\n",
       "    </tr>\n",
       "    <tr>\n",
       "      <th>6</th>\n",
       "      <td>1.837643</td>\n",
       "      <td>7.147812</td>\n",
       "      <td>1.0</td>\n",
       "      <td>98</td>\n",
       "      <td>-3.784828</td>\n",
       "      <td>0.968413</td>\n",
       "      <td>female</td>\n",
       "      <td>0.0</td>\n",
       "    </tr>\n",
       "    <tr>\n",
       "      <th>7</th>\n",
       "      <td>-2.207264</td>\n",
       "      <td>13.303804</td>\n",
       "      <td>0.0</td>\n",
       "      <td>42</td>\n",
       "      <td>-2.722010</td>\n",
       "      <td>1.030733</td>\n",
       "      <td>male</td>\n",
       "      <td>0.0</td>\n",
       "    </tr>\n",
       "    <tr>\n",
       "      <th>8</th>\n",
       "      <td>1.252987</td>\n",
       "      <td>13.513119</td>\n",
       "      <td>0.0</td>\n",
       "      <td>20</td>\n",
       "      <td>4.671809</td>\n",
       "      <td>0.968756</td>\n",
       "      <td>female</td>\n",
       "      <td>0.0</td>\n",
       "    </tr>\n",
       "    <tr>\n",
       "      <th>9</th>\n",
       "      <td>-1.123028</td>\n",
       "      <td>9.983652</td>\n",
       "      <td>1.0</td>\n",
       "      <td>31</td>\n",
       "      <td>0.557406</td>\n",
       "      <td>0.970501</td>\n",
       "      <td>male</td>\n",
       "      <td>1.0</td>\n",
       "    </tr>\n",
       "  </tbody>\n",
       "</table>\n",
       "</div>"
      ],
      "text/plain": [
       "         X1         X2   X3  X4        X5        X6      X7    Y\n",
       "0       NaN   4.679251  0.0   9 -3.309713  0.996256  female  0.0\n",
       "1 -2.926701   4.881840  1.0  27 -0.131200  1.002022  female  0.0\n",
       "2  2.163583   8.385173  0.0  37 -2.130169  0.992910  female  1.0\n",
       "3 -0.478650   9.881707  0.0  38 -3.724918  1.030024    male  0.0\n",
       "4 -0.982258   8.630986  1.0  81  3.550159  0.990598  female  1.0\n",
       "5 -2.004544   5.862744  0.0  21  2.540840  1.004915  female  0.0\n",
       "6  1.837643   7.147812  1.0  98 -3.784828  0.968413  female  0.0\n",
       "7 -2.207264  13.303804  0.0  42 -2.722010  1.030733    male  0.0\n",
       "8  1.252987  13.513119  0.0  20  4.671809  0.968756  female  0.0\n",
       "9 -1.123028   9.983652  1.0  31  0.557406  0.970501    male  1.0"
      ]
     },
     "execution_count": 152,
     "metadata": {},
     "output_type": "execute_result"
    }
   ],
   "source": [
    "df.head(10)"
   ]
  },
  {
   "cell_type": "code",
   "execution_count": 156,
   "metadata": {},
   "outputs": [
    {
     "data": {
      "text/html": [
       "<div>\n",
       "<style scoped>\n",
       "    .dataframe tbody tr th:only-of-type {\n",
       "        vertical-align: middle;\n",
       "    }\n",
       "\n",
       "    .dataframe tbody tr th {\n",
       "        vertical-align: top;\n",
       "    }\n",
       "\n",
       "    .dataframe thead th {\n",
       "        text-align: right;\n",
       "    }\n",
       "</style>\n",
       "<table border=\"1\" class=\"dataframe\">\n",
       "  <thead>\n",
       "    <tr style=\"text-align: right;\">\n",
       "      <th></th>\n",
       "      <th>count</th>\n",
       "      <th>mean</th>\n",
       "      <th>std</th>\n",
       "      <th>min</th>\n",
       "      <th>25%</th>\n",
       "      <th>50%</th>\n",
       "      <th>75%</th>\n",
       "      <th>max</th>\n",
       "    </tr>\n",
       "  </thead>\n",
       "  <tbody>\n",
       "    <tr>\n",
       "      <th>X1</th>\n",
       "      <td>92017.0</td>\n",
       "      <td>0.004896</td>\n",
       "      <td>2.001397</td>\n",
       "      <td>-10.126068</td>\n",
       "      <td>-1.347457</td>\n",
       "      <td>0.008635</td>\n",
       "      <td>1.364258</td>\n",
       "      <td>8.617236</td>\n",
       "    </tr>\n",
       "    <tr>\n",
       "      <th>X2</th>\n",
       "      <td>100000.0</td>\n",
       "      <td>9.007588</td>\n",
       "      <td>2.891063</td>\n",
       "      <td>4.000178</td>\n",
       "      <td>6.506862</td>\n",
       "      <td>9.012539</td>\n",
       "      <td>11.510775</td>\n",
       "      <td>13.999772</td>\n",
       "    </tr>\n",
       "    <tr>\n",
       "      <th>X3</th>\n",
       "      <td>100000.0</td>\n",
       "      <td>0.497430</td>\n",
       "      <td>0.499996</td>\n",
       "      <td>0.000000</td>\n",
       "      <td>0.000000</td>\n",
       "      <td>0.000000</td>\n",
       "      <td>1.000000</td>\n",
       "      <td>1.000000</td>\n",
       "    </tr>\n",
       "    <tr>\n",
       "      <th>X4</th>\n",
       "      <td>100000.0</td>\n",
       "      <td>50.002760</td>\n",
       "      <td>29.149843</td>\n",
       "      <td>0.000000</td>\n",
       "      <td>25.000000</td>\n",
       "      <td>50.000000</td>\n",
       "      <td>75.000000</td>\n",
       "      <td>100.000000</td>\n",
       "    </tr>\n",
       "    <tr>\n",
       "      <th>X5</th>\n",
       "      <td>100000.0</td>\n",
       "      <td>0.508507</td>\n",
       "      <td>3.174391</td>\n",
       "      <td>-4.999733</td>\n",
       "      <td>-2.241846</td>\n",
       "      <td>0.515214</td>\n",
       "      <td>3.251121</td>\n",
       "      <td>5.999996</td>\n",
       "    </tr>\n",
       "    <tr>\n",
       "      <th>X6</th>\n",
       "      <td>100000.0</td>\n",
       "      <td>1.000417</td>\n",
       "      <td>0.029994</td>\n",
       "      <td>0.881713</td>\n",
       "      <td>0.980033</td>\n",
       "      <td>0.999927</td>\n",
       "      <td>1.020329</td>\n",
       "      <td>1.141803</td>\n",
       "    </tr>\n",
       "    <tr>\n",
       "      <th>Y</th>\n",
       "      <td>100000.0</td>\n",
       "      <td>0.300280</td>\n",
       "      <td>0.458382</td>\n",
       "      <td>0.000000</td>\n",
       "      <td>0.000000</td>\n",
       "      <td>0.000000</td>\n",
       "      <td>1.000000</td>\n",
       "      <td>1.000000</td>\n",
       "    </tr>\n",
       "  </tbody>\n",
       "</table>\n",
       "</div>"
      ],
      "text/plain": [
       "       count       mean        std        min        25%        50%  \\\n",
       "X1   92017.0   0.004896   2.001397 -10.126068  -1.347457   0.008635   \n",
       "X2  100000.0   9.007588   2.891063   4.000178   6.506862   9.012539   \n",
       "X3  100000.0   0.497430   0.499996   0.000000   0.000000   0.000000   \n",
       "X4  100000.0  50.002760  29.149843   0.000000  25.000000  50.000000   \n",
       "X5  100000.0   0.508507   3.174391  -4.999733  -2.241846   0.515214   \n",
       "X6  100000.0   1.000417   0.029994   0.881713   0.980033   0.999927   \n",
       "Y   100000.0   0.300280   0.458382   0.000000   0.000000   0.000000   \n",
       "\n",
       "          75%         max  \n",
       "X1   1.364258    8.617236  \n",
       "X2  11.510775   13.999772  \n",
       "X3   1.000000    1.000000  \n",
       "X4  75.000000  100.000000  \n",
       "X5   3.251121    5.999996  \n",
       "X6   1.020329    1.141803  \n",
       "Y    1.000000    1.000000  "
      ]
     },
     "execution_count": 156,
     "metadata": {},
     "output_type": "execute_result"
    }
   ],
   "source": [
    "np.transpose(df.describe())"
   ]
  },
  {
   "cell_type": "code",
   "execution_count": 157,
   "metadata": {},
   "outputs": [
    {
     "data": {
      "text/plain": [
       "X1    float64\n",
       "X2    float64\n",
       "X3    float64\n",
       "X4      int32\n",
       "X5    float64\n",
       "X6    float64\n",
       "X7     object\n",
       "Y     float64\n",
       "dtype: object"
      ]
     },
     "execution_count": 157,
     "metadata": {},
     "output_type": "execute_result"
    }
   ],
   "source": [
    "df.dtypes"
   ]
  },
  {
   "cell_type": "markdown",
   "metadata": {},
   "source": [
    "# Data preparation (ensemble version)\n",
    "\n",
    "1. Missing imputation\n",
    "2. Encoding\n",
    "3. Make sure all attributes are numeric (sklearn)\n"
   ]
  },
  {
   "cell_type": "code",
   "execution_count": 89,
   "metadata": {},
   "outputs": [],
   "source": [
    "df = df.fillna(-999999)"
   ]
  },
  {
   "cell_type": "code",
   "execution_count": 158,
   "metadata": {},
   "outputs": [],
   "source": [
    "gender = pd.get_dummies(df.X7)\n",
    "gender.drop([\"male\"], axis =1)\n",
    "df.X7 = gender.female"
   ]
  },
  {
   "cell_type": "code",
   "execution_count": 104,
   "metadata": {},
   "outputs": [
    {
     "data": {
      "text/html": [
       "<div>\n",
       "<style scoped>\n",
       "    .dataframe tbody tr th:only-of-type {\n",
       "        vertical-align: middle;\n",
       "    }\n",
       "\n",
       "    .dataframe tbody tr th {\n",
       "        vertical-align: top;\n",
       "    }\n",
       "\n",
       "    .dataframe thead th {\n",
       "        text-align: right;\n",
       "    }\n",
       "</style>\n",
       "<table border=\"1\" class=\"dataframe\">\n",
       "  <thead>\n",
       "    <tr style=\"text-align: right;\">\n",
       "      <th></th>\n",
       "      <th>X1</th>\n",
       "      <th>X2</th>\n",
       "      <th>X3</th>\n",
       "      <th>X4</th>\n",
       "      <th>X5</th>\n",
       "      <th>X6</th>\n",
       "      <th>X7</th>\n",
       "      <th>Y</th>\n",
       "    </tr>\n",
       "  </thead>\n",
       "  <tbody>\n",
       "    <tr>\n",
       "      <th>0</th>\n",
       "      <td>-999999.000000</td>\n",
       "      <td>4.679251</td>\n",
       "      <td>0.0</td>\n",
       "      <td>9</td>\n",
       "      <td>-3.309713</td>\n",
       "      <td>0.996256</td>\n",
       "      <td>1</td>\n",
       "      <td>0.0</td>\n",
       "    </tr>\n",
       "    <tr>\n",
       "      <th>1</th>\n",
       "      <td>-2.926701</td>\n",
       "      <td>4.881840</td>\n",
       "      <td>1.0</td>\n",
       "      <td>27</td>\n",
       "      <td>-0.131200</td>\n",
       "      <td>1.002022</td>\n",
       "      <td>1</td>\n",
       "      <td>0.0</td>\n",
       "    </tr>\n",
       "    <tr>\n",
       "      <th>2</th>\n",
       "      <td>2.163583</td>\n",
       "      <td>8.385173</td>\n",
       "      <td>0.0</td>\n",
       "      <td>37</td>\n",
       "      <td>-2.130169</td>\n",
       "      <td>0.992910</td>\n",
       "      <td>1</td>\n",
       "      <td>1.0</td>\n",
       "    </tr>\n",
       "    <tr>\n",
       "      <th>3</th>\n",
       "      <td>-0.478650</td>\n",
       "      <td>9.881707</td>\n",
       "      <td>0.0</td>\n",
       "      <td>38</td>\n",
       "      <td>-3.724918</td>\n",
       "      <td>1.030024</td>\n",
       "      <td>0</td>\n",
       "      <td>0.0</td>\n",
       "    </tr>\n",
       "    <tr>\n",
       "      <th>4</th>\n",
       "      <td>-0.982258</td>\n",
       "      <td>8.630986</td>\n",
       "      <td>1.0</td>\n",
       "      <td>81</td>\n",
       "      <td>3.550159</td>\n",
       "      <td>0.990598</td>\n",
       "      <td>1</td>\n",
       "      <td>1.0</td>\n",
       "    </tr>\n",
       "    <tr>\n",
       "      <th>5</th>\n",
       "      <td>-2.004544</td>\n",
       "      <td>5.862744</td>\n",
       "      <td>0.0</td>\n",
       "      <td>21</td>\n",
       "      <td>2.540840</td>\n",
       "      <td>1.004915</td>\n",
       "      <td>1</td>\n",
       "      <td>0.0</td>\n",
       "    </tr>\n",
       "    <tr>\n",
       "      <th>6</th>\n",
       "      <td>1.837643</td>\n",
       "      <td>7.147812</td>\n",
       "      <td>1.0</td>\n",
       "      <td>98</td>\n",
       "      <td>-3.784828</td>\n",
       "      <td>0.968413</td>\n",
       "      <td>1</td>\n",
       "      <td>0.0</td>\n",
       "    </tr>\n",
       "    <tr>\n",
       "      <th>7</th>\n",
       "      <td>-2.207264</td>\n",
       "      <td>13.303804</td>\n",
       "      <td>0.0</td>\n",
       "      <td>42</td>\n",
       "      <td>-2.722010</td>\n",
       "      <td>1.030733</td>\n",
       "      <td>0</td>\n",
       "      <td>0.0</td>\n",
       "    </tr>\n",
       "    <tr>\n",
       "      <th>8</th>\n",
       "      <td>1.252987</td>\n",
       "      <td>13.513119</td>\n",
       "      <td>0.0</td>\n",
       "      <td>20</td>\n",
       "      <td>4.671809</td>\n",
       "      <td>0.968756</td>\n",
       "      <td>1</td>\n",
       "      <td>0.0</td>\n",
       "    </tr>\n",
       "    <tr>\n",
       "      <th>9</th>\n",
       "      <td>-1.123028</td>\n",
       "      <td>9.983652</td>\n",
       "      <td>1.0</td>\n",
       "      <td>31</td>\n",
       "      <td>0.557406</td>\n",
       "      <td>0.970501</td>\n",
       "      <td>0</td>\n",
       "      <td>1.0</td>\n",
       "    </tr>\n",
       "  </tbody>\n",
       "</table>\n",
       "</div>"
      ],
      "text/plain": [
       "              X1         X2   X3  X4        X5        X6  X7    Y\n",
       "0 -999999.000000   4.679251  0.0   9 -3.309713  0.996256   1  0.0\n",
       "1      -2.926701   4.881840  1.0  27 -0.131200  1.002022   1  0.0\n",
       "2       2.163583   8.385173  0.0  37 -2.130169  0.992910   1  1.0\n",
       "3      -0.478650   9.881707  0.0  38 -3.724918  1.030024   0  0.0\n",
       "4      -0.982258   8.630986  1.0  81  3.550159  0.990598   1  1.0\n",
       "5      -2.004544   5.862744  0.0  21  2.540840  1.004915   1  0.0\n",
       "6       1.837643   7.147812  1.0  98 -3.784828  0.968413   1  0.0\n",
       "7      -2.207264  13.303804  0.0  42 -2.722010  1.030733   0  0.0\n",
       "8       1.252987  13.513119  0.0  20  4.671809  0.968756   1  0.0\n",
       "9      -1.123028   9.983652  1.0  31  0.557406  0.970501   0  1.0"
      ]
     },
     "execution_count": 104,
     "metadata": {},
     "output_type": "execute_result"
    }
   ],
   "source": [
    "df.head(10)"
   ]
  },
  {
   "cell_type": "markdown",
   "metadata": {},
   "source": [
    "# Sampling"
   ]
  },
  {
   "cell_type": "code",
   "execution_count": 105,
   "metadata": {},
   "outputs": [],
   "source": [
    "from sklearn.model_selection import train_test_split"
   ]
  },
  {
   "cell_type": "code",
   "execution_count": 107,
   "metadata": {},
   "outputs": [],
   "source": [
    "X = df.drop([\"Y\"], axis =1)\n",
    "Y = df.Y\n",
    "X_train, X_test, y_train, y_test = train_test_split(X, Y, test_size=0.33, random_state=42)"
   ]
  },
  {
   "cell_type": "markdown",
   "metadata": {},
   "source": [
    "# Train model"
   ]
  },
  {
   "cell_type": "code",
   "execution_count": 159,
   "metadata": {},
   "outputs": [],
   "source": [
    "from sklearn.ensemble import GradientBoostingClassifier"
   ]
  },
  {
   "cell_type": "code",
   "execution_count": 140,
   "metadata": {},
   "outputs": [
    {
     "data": {
      "text/plain": [
       "GradientBoostingClassifier(max_depth=4, n_estimators=200, random_state=0)"
      ]
     },
     "execution_count": 140,
     "metadata": {},
     "output_type": "execute_result"
    }
   ],
   "source": [
    "for trees in [20, 100, 200, 500]:\n",
    "    for learnin_rate in [0.1, 0.2, 0.5]:\n",
    "        gb_clf = GradientBoostingClassifier(n_estimators=trees, learning_rate=learnin_rate, \n",
    "                                    max_depth=4, random_state=0)\n",
    "        DFDF\n",
    "gb_clf.fit(X_train, y_train)"
   ]
  },
  {
   "cell_type": "code",
   "execution_count": 149,
   "metadata": {},
   "outputs": [],
   "source": [
    "predicted_values = gb_clf.predict_proba(X_test)[:,1]"
   ]
  },
  {
   "cell_type": "code",
   "execution_count": 150,
   "metadata": {},
   "outputs": [
    {
     "data": {
      "text/plain": [
       "0.5021794239716677"
      ]
     },
     "execution_count": 150,
     "metadata": {},
     "output_type": "execute_result"
    }
   ],
   "source": [
    "from sklearn.metrics import roc_auc_score\n",
    "roc_auc_score(y_test, predicted_values)"
   ]
  }
 ],
 "metadata": {
  "kernelspec": {
   "display_name": "Python 3",
   "language": "python",
   "name": "python3"
  },
  "language_info": {
   "codemirror_mode": {
    "name": "ipython",
    "version": 3
   },
   "file_extension": ".py",
   "mimetype": "text/x-python",
   "name": "python",
   "nbconvert_exporter": "python",
   "pygments_lexer": "ipython3",
   "version": "3.7.4"
  }
 },
 "nbformat": 4,
 "nbformat_minor": 4
}
